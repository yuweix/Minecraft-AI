{
 "cells": [
  {
   "cell_type": "markdown",
   "metadata": {},
   "source": [
    "trying to use the example from \n",
    "[http://warmspringwinds.github.io/tensorflow/tf-slim/2016/12/21/tfrecords-guide/](http://warmspringwinds.github.io/tensorflow/tf-slim/2016/12/21/tfrecords-guide/)"
   ]
  },
  {
   "cell_type": "markdown",
   "metadata": {},
   "source": [
    "**biome dataset**:  \n",
    "denote number of data  \n",
    "mesa size:  10015  \n",
    "forest size:  10047  \n",
    "desert size:  10106  \n",
    "jungle size:  10238  \n",
    "eh size:  7364  \n",
    "training size: 42993  \n",
    "test size: 4777  \n",
    "total size:  47770  \n",
    "Batch size: 5"
   ]
  },
  {
   "cell_type": "markdown",
   "metadata": {},
   "source": [
    "**animal dataset:**  \n",
    "denote number of data  \n",
    "None    label:  0  size:  577  \n",
    "Pig     label:  1  size:  1644  \n",
    "Chicken label:  2  size:  597  \n",
    "Cow     label:  3  size:  456  \n",
    "training size: 2946   \n",
    "test size: 328   \n",
    "total size: 3274   "
   ]
  },
  {
   "cell_type": "markdown",
   "metadata": {},
   "source": [
    "**weather dataset:**  \n",
    "label:  0  size:  1196  \n",
    "label:  0  size:  1309  \n",
    "label:  1  size:  684  \n",
    "label:  2  size:  182  \n",
    "training size: 3033   \n",
    "test size: 338   \n",
    "total size: 3371   "
   ]
  },
  {
   "cell_type": "code",
   "execution_count": 1,
   "metadata": {
    "collapsed": true
   },
   "outputs": [],
   "source": [
    "%matplotlib inline\n",
    "import tensorflow as tf\n",
    "import matplotlib as plt\n",
    "import glob\n",
    "import numpy as np\n",
    "from PIL import Image\n",
    "import mltools as ml"
   ]
  },
  {
   "cell_type": "code",
   "execution_count": 2,
   "metadata": {
    "collapsed": true
   },
   "outputs": [],
   "source": [
    "# labels ={\"mesa\":0, \"forest\":1, \"desert\":2,\"jungle\":3,\"eh\":4}\n",
    "labels = {\"none\":0, \"pig\":1, 'chicken':2, 'cow':3}\n",
    "# labels = {\"clear_or_normal\":0, \"rain\":1, \"thunder\":2}\n",
    "tfrecords_train_filename = '/notebooks/Minecraft-AI/mc-data/pig_reg/loaded_data/none_pig_chicken_cow_train.tfrecords'\n",
    "tfrecords_test_filename='/notebooks/Minecraft-AI/mc-data/pig_reg/loaded_data/none_pig_chicken_cow_test.tfrecords'"
   ]
  },
  {
   "cell_type": "code",
   "execution_count": 3,
   "metadata": {
    "collapsed": true
   },
   "outputs": [],
   "source": [
    "files_paths = [\n",
    "    ('/notebooks/Minecraft-AI/mc-data/pig_reg/no_pig/**/*.jpg', \"0\"),\n",
    "    ('/notebooks/Minecraft-AI/mc-data/pig_reg/pig/**/*.jpg', \"1\"),\n",
    "    ('/notebooks/Minecraft-AI/mc-data/pig_reg/chicken_rgb/*.jpg', \"2\"),\n",
    "     ('/notebooks/Minecraft-AI/mc-data/pig_reg/cow_rgb/*.jpg', \"3\")\n",
    "]"
   ]
  },
  {
   "cell_type": "code",
   "execution_count": 4,
   "metadata": {},
   "outputs": [
    {
     "name": "stdout",
     "output_type": "stream",
     "text": [
      "label:  0  size:  577\n",
      "label:  1  size:  1644\n",
      "label:  2  size:  597\n",
      "label:  3  size:  456\n"
     ]
    }
   ],
   "source": [
    "filename_pairs=[]\n",
    "for file_name, label in files_paths:\n",
    "    files = glob.glob(file_name)\n",
    "    file_pairs = zip(files, label*len(files))\n",
    "    print \"label: \", label, \" size: \", len(files)\n",
    "    filename_pairs += file_pairs"
   ]
  },
  {
   "cell_type": "code",
   "execution_count": 5,
   "metadata": {
    "collapsed": true,
    "scrolled": false
   },
   "outputs": [],
   "source": [
    "np.random.shuffle(filename_pairs)\n",
    "portion=int(0.9*len(filename_pairs))\n",
    "train_pairs = filename_pairs[:portion]\n",
    "test_pairs = filename_pairs[portion:]"
   ]
  },
  {
   "cell_type": "code",
   "execution_count": 6,
   "metadata": {},
   "outputs": [
    {
     "name": "stdout",
     "output_type": "stream",
     "text": [
      "[('/notebooks/Minecraft-AI/mc-data/pig_reg/pig/pig_rgb/pig_1175.jpg', '1'), ('/notebooks/Minecraft-AI/mc-data/pig_reg/pig/pig_forest_eh/pig_709.jpg', '1'), ('/notebooks/Minecraft-AI/mc-data/pig_reg/pig/pig_rgb/pig_459.jpg', '1'), ('/notebooks/Minecraft-AI/mc-data/pig_reg/pig/pig_rgb_2/pig_324.jpg', '1'), ('/notebooks/Minecraft-AI/mc-data/pig_reg/pig/pig_rgb/pig_804.jpg', '1'), ('/notebooks/Minecraft-AI/mc-data/pig_reg/chicken_rgb/chicken_677.jpg', '2'), ('/notebooks/Minecraft-AI/mc-data/pig_reg/cow_rgb/cow_308.jpg', '3'), ('/notebooks/Minecraft-AI/mc-data/pig_reg/no_pig/fence_rgb_2/fence_337.jpg', '0'), ('/notebooks/Minecraft-AI/mc-data/pig_reg/pig/pig_forest_eh/pig_212.jpg', '1'), ('/notebooks/Minecraft-AI/mc-data/pig_reg/pig/pig_forest_eh/pig_714.jpg', '1')]\n"
     ]
    }
   ],
   "source": [
    "print train_pairs[:10]"
   ]
  },
  {
   "cell_type": "code",
   "execution_count": 7,
   "metadata": {},
   "outputs": [
    {
     "name": "stdout",
     "output_type": "stream",
     "text": [
      "training size: 2946   \n",
      "test size: 328   \n",
      "total size: 3274   \n"
     ]
    }
   ],
   "source": [
    "print \"training size:\", len(train_pairs),\"  \"\n",
    "print \"test size:\", len(test_pairs),\"  \"\n",
    "print \"total size:\", len(filename_pairs),\"  \""
   ]
  },
  {
   "cell_type": "code",
   "execution_count": 8,
   "metadata": {
    "collapsed": true
   },
   "outputs": [],
   "source": [
    "\n",
    "train_writer = tf.python_io.TFRecordWriter(tfrecords_train_filename)\n",
    "test_writer = tf.python_io.TFRecordWriter(tfrecords_test_filename)"
   ]
  },
  {
   "cell_type": "code",
   "execution_count": 9,
   "metadata": {
    "collapsed": true
   },
   "outputs": [],
   "source": [
    "# helper functions\n",
    "def _bytes_feature(value):\n",
    "    return tf.train.Feature(bytes_list=tf.train.BytesList(value=[value]))\n",
    "\n",
    "def _int64_feature(value):\n",
    "    return tf.train.Feature(int64_list=tf.train.Int64List(value=[value]))"
   ]
  },
  {
   "cell_type": "code",
   "execution_count": 10,
   "metadata": {
    "collapsed": true
   },
   "outputs": [],
   "source": [
    "def write_in_tfrecord(filename_pairs, writer):\n",
    "    for img_path, label in filename_pairs:\n",
    "\n",
    "        img = np.array(Image.open(img_path))\n",
    "        \n",
    "        # The reason to store image sizes was demonstrated\n",
    "        # in the previous example -- we have to know sizes\n",
    "        # of images to later read raw serialized string,\n",
    "        # convert to 1d array and convert to respective\n",
    "        # shape that image used to have.\n",
    "        height = img.shape[0]\n",
    "        width = img.shape[1]\n",
    "\n",
    "        # Put in the original images into array\n",
    "        # Just for future check for correctness\n",
    "#         original_images.append((img,label))\n",
    "\n",
    "        img_raw = img.tostring()\n",
    "        example = tf.train.Example(features=tf.train.Features(feature={\n",
    "            'height': _int64_feature(height),\n",
    "            'width': _int64_feature(width),\n",
    "            'image_raw': _bytes_feature(img_raw),\n",
    "            'label': _int64_feature(int(label))}))\n",
    "\n",
    "        writer.write(example.SerializeToString())"
   ]
  },
  {
   "cell_type": "code",
   "execution_count": 11,
   "metadata": {
    "collapsed": true
   },
   "outputs": [],
   "source": [
    "write_in_tfrecord(train_pairs,train_writer)\n",
    "train_writer.close()"
   ]
  },
  {
   "cell_type": "code",
   "execution_count": 12,
   "metadata": {
    "collapsed": true
   },
   "outputs": [],
   "source": [
    "write_in_tfrecord(test_pairs,test_writer)\n",
    "test_writer.close()"
   ]
  }
 ],
 "metadata": {
  "kernelspec": {
   "display_name": "Python 2",
   "language": "python",
   "name": "python2"
  },
  "language_info": {
   "codemirror_mode": {
    "name": "ipython",
    "version": 2
   },
   "file_extension": ".py",
   "mimetype": "text/x-python",
   "name": "python",
   "nbconvert_exporter": "python",
   "pygments_lexer": "ipython2",
   "version": "2.7.12"
  }
 },
 "nbformat": 4,
 "nbformat_minor": 2
}
