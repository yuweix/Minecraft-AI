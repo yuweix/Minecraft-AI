{
 "cells": [
  {
   "cell_type": "markdown",
   "metadata": {
    "collapsed": true
   },
   "source": [
    "# Use basic ML methods for img recognition\n",
    "by Jenny Zeng & Ariel"
   ]
  },
  {
   "cell_type": "code",
   "execution_count": 1,
   "metadata": {},
   "outputs": [
    {
     "name": "stdout",
     "output_type": "stream",
     "text": [
      "Populating the interactive namespace from numpy and matplotlib\n"
     ]
    },
    {
     "name": "stderr",
     "output_type": "stream",
     "text": [
      "/usr/local/lib/python2.7/dist-packages/sklearn/cross_validation.py:44: DeprecationWarning: This module was deprecated in version 0.18 in favor of the model_selection module into which all the refactored classes and functions are moved. Also note that the interface of the new CV iterators are different from that of this module. This module will be removed in 0.20.\n",
      "  \"This module will be removed in 0.20.\", DeprecationWarning)\n",
      "/usr/local/lib/python2.7/dist-packages/sklearn/learning_curve.py:23: DeprecationWarning: This module was deprecated in version 0.18 in favor of the model_selection module into which all the functions are moved. This module will be removed in 0.20\n",
      "  DeprecationWarning)\n"
     ]
    }
   ],
   "source": [
    "%pylab inline\n",
    "import mltools as ml\n",
    "plt.style.use('ggplot')\n",
    "from sklearn.learning_curve import validation_curve\n",
    "from sklearn.linear_model import Ridge\n",
    "from sklearn.model_selection import learning_curve,GridSearchCV, ShuffleSplit\n",
    "from sklearn.ensemble import RandomForestClassifier, AdaBoostClassifier,GradientBoostingClassifier\n",
    "from sklearn.metrics import roc_auc_score, make_scorer\n",
    "from sklearn import tree, preprocessing\n"
   ]
  },
  {
   "cell_type": "markdown",
   "metadata": {},
   "source": [
    "denote number of data    \n",
    "mesa: 10015    \n",
    "forest: 10047   \n",
    "desert: 10142  \n",
    "training size: 21142  \n",
    "test size: 9062  \n",
    "total size:  30204"
   ]
  },
  {
   "cell_type": "markdown",
   "metadata": {},
   "source": [
    "# Helper function"
   ]
  },
  {
   "cell_type": "markdown",
   "metadata": {},
   "source": [
    "# multi-class"
   ]
  },
  {
   "cell_type": "markdown",
   "metadata": {},
   "source": [
    "# Random forest"
   ]
  },
  {
   "cell_type": "code",
   "execution_count": 5,
   "metadata": {
    "collapsed": true
   },
   "outputs": [],
   "source": [
    "%pylab inline\n",
    "import mltools as ml\n",
    "plt.style.use('ggplot')\n",
    "from sklearn.datasets import make_regression\n",
    "from sklearn.datasets import make_classification\n",
    "from sklearn.multioutput import MultiOutputRegressor\n",
    "from sklearn.multioutput import MultiOutputClassifier\n",
    "from sklearn.ensemble import GradientBoostingRegressor\n",
    "from sklearn.ensemble import RandomForestClassifier\n",
    "from sklearn.utils import shuffle\n",
    "from sklearn.externals import joblib"
   ]
  },
  {
   "cell_type": "code",
   "execution_count": 6,
   "metadata": {
    "collapsed": true
   },
   "outputs": [],
   "source": [
    "def convertLabel(lab, NUM_LABELS):\n",
    "    return (numpy.arange(NUM_LABELS) == lab[:, None]).astype(numpy.float32)"
   ]
  },
  {
   "cell_type": "code",
   "execution_count": 7,
   "metadata": {
    "collapsed": true
   },
   "outputs": [],
   "source": [
    "from sklearn.externals import joblib"
   ]
  },
  {
   "cell_type": "raw",
   "metadata": {},
   "source": [
    "denote number of data\n",
    "mesa: 10015\n",
    "forest: 10047\n",
    "desert: 10142\n",
    "training size: 21142\n",
    "test size: 9062\n",
    "total size: 30204"
   ]
  },
  {
   "cell_type": "code",
   "execution_count": 8,
   "metadata": {},
   "outputs": [
    {
     "name": "stdout",
     "output_type": "stream",
     "text": [
      "Done\n"
     ]
    }
   ],
   "source": [
    "def error_rate(predictions, labels, NUM_LABELS):\n",
    "    \"\"\"Return the error rate and confusions.\"\"\"\n",
    "    correct = numpy.sum(numpy.argmax(predictions, 1) == numpy.argmax(labels, 1))\n",
    "    total = predictions.shape[0]\n",
    "\n",
    "    error = 100.0 - (100 * float(correct) / float(total))\n",
    "\n",
    "    confusions = numpy.zeros([NUM_LABELS, NUM_LABELS], numpy.float32)\n",
    "    bundled = zip(numpy.argmax(predictions, 1), numpy.argmax(labels, 1))\n",
    "    for predicted, actual in bundled:\n",
    "        confusions[predicted, actual] += 1\n",
    "    \n",
    "    return error, confusions\n",
    "\n",
    "print('Done')"
   ]
  },
  {
   "cell_type": "code",
   "execution_count": 9,
   "metadata": {},
   "outputs": [],
   "source": [
    "def train_by_file(filename, model, NUM_LABELS, ratio=0.9):\n",
    "    data = np.loadtxt(filename, delimiter=';')\n",
    "    np.random.shuffle(data)\n",
    "    X = data[:,:-1]\n",
    "    Y = data[:,-1].astype(np.int64)\n",
    "    Xtr, Xte, Ytr, Yte = ml.splitData(X,Y,train_fraction=ratio)\n",
    "    model = model.fit(Xtr, convertLabel(Ytr, NUM_LABELS))\n",
    "    return model, Xte, Yte\n",
    "    "
   ]
  },
  {
   "cell_type": "code",
   "execution_count": 18,
   "metadata": {
    "collapsed": true
   },
   "outputs": [],
   "source": [
    "def test_result(model, Xte, Yte, NUM_LABELS):\n",
    "    result=model.predict(Xte)\n",
    "    test_error,confusions=error_rate(result, convertLabel(Yte,NUM_LABELS),NUM_LABELS)\n",
    "    print('Test error: {}%'.format(test_error))\n",
    "\n",
    "    plt.xlabel('Actual')\n",
    "    plt.ylabel('Predicted')\n",
    "    plt.grid(False)\n",
    "    plt.xticks(numpy.arange(NUM_LABELS))\n",
    "    plt.yticks(numpy.arange(NUM_LABELS))\n",
    "    plt.imshow(confusions, cmap=plt.cm.coolwarm, interpolation='nearest');\n",
    "\n",
    "    for i, cas in enumerate(confusions):\n",
    "        for j, count in enumerate(cas):\n",
    "            if count > 0:\n",
    "                xoff = .07 * len(str(count))\n",
    "                plt.text(j-xoff, i+.2, int(count), fontsize=9, color='white')\n"
   ]
  },
  {
   "cell_type": "markdown",
   "metadata": {},
   "source": [
    "# Biome"
   ]
  },
  {
   "cell_type": "code",
   "execution_count": 19,
   "metadata": {},
   "outputs": [
    {
     "name": "stdout",
     "output_type": "stream",
     "text": [
      "Test error: 5.63114925686%\n"
     ]
    },
    {
     "data": {
      "image/png": "[encoded data removed]",
      "text/plain": [
       "<matplotlib.figure.Figure at 0x7f1d94ac97d0>"
      ]
     },
     "metadata": {},
     "output_type": "display_data"
    }
   ],
   "source": [
    "NUM_LABELS = 5\n",
    "forest = RandomForestClassifier(n_estimators=100, random_state=1)\n",
    "multi_target_forest = MultiOutputClassifier(forest, n_jobs=3)\n",
    "biome_model, Xte, Yte = train_by_file(\n",
    "    '/notebooks/Minecraft-AI/mc-data/biome_reg/loaded_data/mesa_forest_desert_jungle_eh_new.txt',\n",
    "    multi_target_forest,\n",
    "    NUM_LABELS)\n",
    "test_result(biome_model, Xte, Yte, NUM_LABELS)"
   ]
  },
  {
   "cell_type": "code",
   "execution_count": 21,
   "metadata": {},
   "outputs": [
    {
     "data": {
      "text/plain": [
       "['/notebooks/Minecraft-AI/sklearn_model/biome.pkl']"
      ]
     },
     "execution_count": 21,
     "metadata": {},
     "output_type": "execute_result"
    }
   ],
   "source": [
    "joblib.dump(biome_model, '/notebooks/Minecraft-AI/sklearn_model/biome.pkl') "
   ]
  },
  {
   "cell_type": "markdown",
   "metadata": {},
   "source": [
    "# Animal data"
   ]
  },
  {
   "cell_type": "markdown",
   "metadata": {},
   "source": [
    "**pig dataset:**  \n",
    "denote number of data  \n",
    "fence: 433  \n",
    "pig: 404 \n",
    "training size: 669  \n",
    "test size: 168  \n",
    "total size:  837"
   ]
  },
  {
   "cell_type": "code",
   "execution_count": 22,
   "metadata": {},
   "outputs": [
    {
     "name": "stdout",
     "output_type": "stream",
     "text": [
      "Test error: 6.13496932515%\n"
     ]
    },
    {
     "data": {
      "image/png": "[encoded data removed]",
      "text/plain": [
       "<matplotlib.figure.Figure at 0x7f1d94c1a7d0>"
      ]
     },
     "metadata": {},
     "output_type": "display_data"
    }
   ],
   "source": [
    "NUM_LABELS = 4\n",
    "forest = RandomForestClassifier(n_estimators=100, random_state=1)\n",
    "multi_target_forest = MultiOutputClassifier(forest, n_jobs=3)\n",
    "animal_model, Xte, Yte = train_by_file(\n",
    "    '/notebooks/Minecraft-AI/mc-data/animal.txt',\n",
    "    multi_target_forest,\n",
    "    NUM_LABELS)\n",
    "test_result(animal_model, Xte, Yte, NUM_LABELS)"
   ]
  },
  {
   "cell_type": "code",
   "execution_count": 23,
   "metadata": {},
   "outputs": [
    {
     "data": {
      "text/plain": [
       "['/notebooks/Minecraft-AI/sklearn_model/animal.pkl']"
      ]
     },
     "execution_count": 23,
     "metadata": {},
     "output_type": "execute_result"
    }
   ],
   "source": [
    "joblib.dump(animal_model, '/notebooks/Minecraft-AI/sklearn_model/animal.pkl') "
   ]
  },
  {
   "cell_type": "markdown",
   "metadata": {},
   "source": [
    "# Weather"
   ]
  },
  {
   "cell_type": "markdown",
   "metadata": {},
   "source": [
    "label: 0 size: 1196\n",
    "label: 0 size: 1309\n",
    "label: 1 size: 684\n",
    "label: 2 size: 1000\n",
    "training size: 3351\n",
    "test size: 838\n",
    "total size: 4189"
   ]
  },
  {
   "cell_type": "code",
   "execution_count": 24,
   "metadata": {},
   "outputs": [
    {
     "name": "stdout",
     "output_type": "stream",
     "text": [
      "Test error: 3.26409495549%\n"
     ]
    },
    {
     "data": {
      "image/png": "[encoded data removed]",
      "text/plain": [
       "<matplotlib.figure.Figure at 0x7f1da1beb990>"
      ]
     },
     "metadata": {},
     "output_type": "display_data"
    }
   ],
   "source": [
    "NUM_LABELS=3\n",
    "forest = RandomForestClassifier(n_estimators=100, random_state=1)\n",
    "multi_target_forest = MultiOutputClassifier(forest, n_jobs=3)\n",
    "animal_model, Xte, Yte = train_by_file(\n",
    "    '/notebooks/Minecraft-AI/mc-data/clear_rain_thunder_train.txt',\n",
    "    multi_target_forest,\n",
    "    NUM_LABELS)\n",
    "test_result(animal_model, Xte, Yte, NUM_LABELS)"
   ]
  },
  {
   "cell_type": "code",
   "execution_count": 25,
   "metadata": {},
   "outputs": [
    {
     "data": {
      "text/plain": [
       "['/notebooks/Minecraft-AI/sklearn_model/weather.pkl']"
      ]
     },
     "execution_count": 25,
     "metadata": {},
     "output_type": "execute_result"
    }
   ],
   "source": [
    "# save model\n",
    "joblib.dump(animal_model, '/notebooks/Minecraft-AI/sklearn_model/weather.pkl') "
   ]
  },
  {
   "cell_type": "markdown",
   "metadata": {},
   "source": [
    "# Save the model"
   ]
  },
  {
   "cell_type": "markdown",
   "metadata": {},
   "source": [
    "# example that makes mistake"
   ]
  },
  {
   "cell_type": "code",
   "execution_count": null,
   "metadata": {
    "collapsed": true
   },
   "outputs": [],
   "source": [
    "FILE_SAVE_PATH2 = '/notebooks/Minecraft-AI/mc-data/fence_pig2.txt'"
   ]
  },
  {
   "cell_type": "code",
   "execution_count": null,
   "metadata": {
    "collapsed": true
   },
   "outputs": [],
   "source": [
    "datan = np.loadtxt(FILE_SAVE_PATH2, delimiter=';')\n"
   ]
  },
  {
   "cell_type": "code",
   "execution_count": null,
   "metadata": {
    "collapsed": true
   },
   "outputs": [],
   "source": [
    "datan"
   ]
  },
  {
   "cell_type": "code",
   "execution_count": null,
   "metadata": {
    "collapsed": true
   },
   "outputs": [],
   "source": [
    "np.random.shuffle(datan)\n",
    "XPI= datan[:,:-1]\n",
    "YPI = datan[:,-1].astype(np.int64)\n",
    "data_scalern = preprocessing.StandardScaler().fit(XPI)\n",
    "XPI_scaled = data_scalern.transform(XPI)\n"
   ]
  },
  {
   "cell_type": "code",
   "execution_count": null,
   "metadata": {
    "collapsed": true
   },
   "outputs": [],
   "source": [
    "resultn1=r1.predict(XPI_scaled)\n",
    "resultn1\n"
   ]
  }
 ],
 "metadata": {
  "kernelspec": {
   "display_name": "Python 2",
   "language": "python",
   "name": "python2"
  },
  "language_info": {
   "codemirror_mode": {
    "name": "ipython",
    "version": 2
   },
   "file_extension": ".py",
   "mimetype": "text/x-python",
   "name": "python",
   "nbconvert_exporter": "python",
   "pygments_lexer": "ipython2",
   "version": "2.7.12"
  }
 },
 "nbformat": 4,
 "nbformat_minor": 2
}
